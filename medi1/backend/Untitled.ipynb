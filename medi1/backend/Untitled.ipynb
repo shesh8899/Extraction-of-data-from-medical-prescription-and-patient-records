{
 "cells": [
  {
   "cell_type": "code",
   "execution_count": 75,
   "id": "793afb5b",
   "metadata": {},
   "outputs": [],
   "source": [
    "from PIL import Image\n",
    "from pdf2image import convert_from_path\n",
    "from PIL import Image\n",
    "import cv2\n",
    "import numpy"
   ]
  },
  {
   "cell_type": "code",
   "execution_count": 76,
   "id": "91475dc7",
   "metadata": {},
   "outputs": [],
   "source": [
    "image=convert_from_path('/Users/shashankpatil/Desktop/medi1/backend/docs/prescription/pre_1.pdf')"
   ]
  },
  {
   "cell_type": "code",
   "execution_count": 77,
   "id": "a6263dd3",
   "metadata": {},
   "outputs": [],
   "source": [
    "image[0].show()"
   ]
  },
  {
   "cell_type": "code",
   "execution_count": 78,
   "id": "2df60043",
   "metadata": {},
   "outputs": [],
   "source": [
    "from pytesseract import pytesseract"
   ]
  },
  {
   "cell_type": "code",
   "execution_count": 87,
   "id": "935e6762",
   "metadata": {},
   "outputs": [],
   "source": [
    " def preprocess(img):\n",
    "        np_img = numpy.array(img)\n",
    "        grey=cv2.cvtColor(np_img, cv2.COLOR_BGR2GRAY)\n",
    "        resize=cv2.resize(grey, None, fx=1.5, fy=1.5,interpolation=cv2.INTER_LINEAR)\n",
    "        pro= cv2.adaptiveThreshold(resize,255,cv2.ADAPTIVE_THRESH_GAUSSIAN_C,\\\n",
    "            cv2.THRESH_BINARY,61,11)\n",
    "        return Image.fromarray(pro)"
   ]
  },
  {
   "cell_type": "code",
   "execution_count": 88,
   "id": "a9154f0a",
   "metadata": {},
   "outputs": [
    {
     "data": {
      "text/plain": [
       "PIL.Image.Image"
      ]
     },
     "execution_count": 88,
     "metadata": {},
     "output_type": "execute_result"
    }
   ],
   "source": [
    "processed=preprocess(image[0])\n",
    "type(processed)\n"
   ]
  },
  {
   "cell_type": "code",
   "execution_count": 89,
   "id": "934d554a",
   "metadata": {},
   "outputs": [
    {
     "name": "stdout",
     "output_type": "stream",
     "text": [
      "Dr John Smith, M.D\n",
      "2 Non-Important Street,\n",
      "New York, Phone (000)-111-2222\n",
      "\n",
      "Name: Marta Sharapova Date: 5/11/2022\n",
      "\n",
      "Address: 9 tennis court, new Russia, DC\n",
      "\n",
      "K\n",
      "\n",
      "Prednisone 20 mg\n",
      "Lialda 2.4 gram\n",
      "\n",
      "Directions:\n",
      "\n",
      "Prednisone, Taper 5 mg every 3 days,\n",
      "Finish in 2.5 weeks a\n",
      "Lialda - take 2 pill everyday for 1 month\n",
      "\n",
      "Refill: 2 times\n",
      "\n"
     ]
    }
   ],
   "source": [
    "text = pytesseract.image_to_string(processed, lang='eng')\n",
    "print(text)"
   ]
  },
  {
   "cell_type": "code",
   "execution_count": 91,
   "id": "04351d4a",
   "metadata": {},
   "outputs": [
    {
     "name": "stdout",
     "output_type": "stream",
     "text": [
      "17/12/2020\n",
      "\n",
      "Patient Medical Record\n",
      "\n",
      "Patient Information Birth Date\n",
      "\n",
      "Kathy Crawford May 6 1972\n",
      "\n",
      "(737) 988-0851 Weight’\n",
      "\n",
      "9264 Ash Dr 95\n",
      "\n",
      "New York City, 10005 '\n",
      "\n",
      "United States Height:\n",
      "190\n",
      "\n",
      "In Case of Emergency\n",
      "ee J\n",
      "Simeone Crawford 9266 Ash Dr\n",
      "New York City, New York, 10005\n",
      "Home phone United States\n",
      "(990) 375-4621\n",
      "Work phone\n",
      "Genera! Medical History\n",
      "nn i\n",
      "Chicken Pox (Varicella): Measies:\n",
      "IMMUNE\n",
      "\n",
      "IMMUNE\n",
      "Have you had the Hepatitis B vaccination?\n",
      "\n",
      "No\n",
      "\n",
      "List any Medical Problems (asthma, seizures, headaches}:\n",
      "\n",
      "Migraine\n",
      "\n"
     ]
    }
   ],
   "source": [
    "image=convert_from_path('/Users/shashankpatil/Desktop/medi1/backend/docs/patient_details/pd_1.pdf') \n",
    "def preprocess(img):\n",
    "        np_img = numpy.array(img)\n",
    "        grey=cv2.cvtColor(np_img, cv2.COLOR_BGR2GRAY)\n",
    "        resize=cv2.resize(grey, None, fx=1.5, fy=1.5,interpolation=cv2.INTER_LINEAR)\n",
    "        pro= cv2.adaptiveThreshold(resize,255,cv2.ADAPTIVE_THRESH_GAUSSIAN_C,\\\n",
    "            cv2.THRESH_BINARY,61,11)\n",
    "        return Image.fromarray(pro)\n",
    "processed=preprocess(image[0])\n",
    "text = pytesseract.image_to_string(processed, lang='eng')\n",
    "print(text)\n",
    "\n"
   ]
  },
  {
   "cell_type": "code",
   "execution_count": 127,
   "id": "b286f014",
   "metadata": {},
   "outputs": [],
   "source": [
    "import re\n",
    "txt='''17/12/2020\n",
    "\n",
    "Patient Medical Record\n",
    "\n",
    "Patient Information Birth Date\n",
    "\n",
    "Kathy Crawford May 6 1972\n",
    "\n",
    "(737) 988-0851 Weight’\n",
    "\n",
    "9264 Ash Dr 95\n",
    "\n",
    "New York City, 10005 '\n",
    "\n",
    "United States Height:\n",
    "190\n",
    "\n",
    "In Case of Emergency\n",
    "ee J\n",
    "Simeone Crawford 9266 Ash Dr\n",
    "New York City, New York, 10005\n",
    "Home phone United States\n",
    "(990) 375-4621\n",
    "Work phone\n",
    "Genera! Medical History\n",
    "nn i\n",
    "Chicken Pox (Varicella): Measies:\n",
    "IMMUNE\n",
    "\n",
    "IMMUNE\n",
    "Have you had the Hepatitis B vaccination?\n",
    "\n",
    "No\n",
    "\n",
    "List any Medical Problems (asthma, seizures, headaches}:\n",
    "\n",
    "Migrane\n",
    "\n",
    "'''\n"
   ]
  },
  {
   "cell_type": "code",
   "execution_count": 128,
   "id": "eeb97285",
   "metadata": {},
   "outputs": [
    {
     "name": "stdout",
     "output_type": "stream",
     "text": [
      "\n",
      "\n",
      "Kathy Crawford May 6 1972\n",
      "\n",
      "\n"
     ]
    }
   ],
   "source": [
    "match=re.findall('Patient Information Birth Date(.*?)\\(\\d{3}\\)',txt,flags=re.DOTALL)\n",
    "print(match[0])"
   ]
  },
  {
   "cell_type": "code",
   "execution_count": 129,
   "id": "3c0e55d7",
   "metadata": {},
   "outputs": [
    {
     "name": "stdout",
     "output_type": "stream",
     "text": [
      "(990) 375-4621\n"
     ]
    }
   ],
   "source": [
    "match=re.findall('Patient Information .*(\\(\\d{3}\\) \\d{3}-\\d{4})',txt,flags=re.DOTALL)\n",
    "print(match[0])"
   ]
  },
  {
   "cell_type": "code",
   "execution_count": 130,
   "id": "a7b052a6",
   "metadata": {},
   "outputs": [
    {
     "name": "stdout",
     "output_type": "stream",
     "text": [
      "\n",
      "\n",
      "No\n",
      "\n",
      "\n"
     ]
    }
   ],
   "source": [
    "match=re.findall('Have you had the Hepatitis B vaccination\\?(.*)List',txt,flags=re.DOTALL)\n",
    "print(match[0])"
   ]
  },
  {
   "cell_type": "code",
   "execution_count": 131,
   "id": "da3cb722",
   "metadata": {},
   "outputs": [
    {
     "data": {
      "text/plain": [
       "'Migrane'"
      ]
     },
     "execution_count": 131,
     "metadata": {},
     "output_type": "execute_result"
    }
   ],
   "source": [
    "match=re.findall('List any Medical Problems \\(asthma, seizures, headaches\\}:(.*)',txt,re.DOTALL)\n",
    "match[0].strip()"
   ]
  },
  {
   "cell_type": "code",
   "execution_count": null,
   "id": "7f2cc6cc",
   "metadata": {},
   "outputs": [],
   "source": []
  },
  {
   "cell_type": "code",
   "execution_count": null,
   "id": "faca41ea",
   "metadata": {},
   "outputs": [],
   "source": []
  }
 ],
 "metadata": {
  "kernelspec": {
   "display_name": "Python 3 (ipykernel)",
   "language": "python",
   "name": "python3"
  },
  "language_info": {
   "codemirror_mode": {
    "name": "ipython",
    "version": 3
   },
   "file_extension": ".py",
   "mimetype": "text/x-python",
   "name": "python",
   "nbconvert_exporter": "python",
   "pygments_lexer": "ipython3",
   "version": "3.9.12"
  }
 },
 "nbformat": 4,
 "nbformat_minor": 5
}
