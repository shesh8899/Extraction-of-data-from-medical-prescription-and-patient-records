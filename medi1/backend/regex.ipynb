{
 "cells": [
  {
   "cell_type": "code",
   "execution_count": 1,
   "id": "9263042c",
   "metadata": {},
   "outputs": [],
   "source": [
    "import re\n"
   ]
  },
  {
   "cell_type": "code",
   "execution_count": 2,
   "id": "1439b59f",
   "metadata": {},
   "outputs": [],
   "source": [
    "text=\"patient phone number is 7350047218 and the bill amount is 120$.Patient can visit our portal www.awesomehospital.com and make the bill payment\""
   ]
  },
  {
   "cell_type": "code",
   "execution_count": 3,
   "id": "174b6f63",
   "metadata": {},
   "outputs": [
    {
     "name": "stdout",
     "output_type": "stream",
     "text": [
      "['7350047218', '120$']\n"
     ]
    }
   ],
   "source": [
    "a=re.findall('\\d{10}|\\d+\\$',text)\n",
    "print(a)"
   ]
  },
  {
   "cell_type": "code",
   "execution_count": 7,
   "id": "cb79bc51",
   "metadata": {},
   "outputs": [
    {
     "name": "stdout",
     "output_type": "stream",
     "text": [
      "('(735)-004-7218', '7347593794')\n"
     ]
    }
   ],
   "source": [
    "text1=\"patient phone number is (735)-004-7218 and spouse phone number is 7347593794\"\n",
    "b=re.search('(\\(\\d{3}\\)\\-\\d{3}\\-\\d{4})\\D+(\\d{10})',text1)\n",
    "print(b.groups())"
   ]
  },
  {
   "cell_type": "code",
   "execution_count": 9,
   "id": "8d3de3c8",
   "metadata": {},
   "outputs": [],
   "source": [
    "text='''\n",
    "Name: Marta Sharapova Date: 5/11/2022\n",
    "\n",
    "Address: 9 tennis court, new Russia, DC\n",
    "\n",
    "\n",
    "Prednisone 20 mg\n",
    "Lialda 2.4 gram\n",
    "\n",
    "Directions:\n",
    "\n",
    "Prednisone, Taper 5 mg every 3 days,\n",
    "Finish in 2.5 weeks a\n",
    "Lialda - take 2 pill everyday for 1 month\n",
    "\n",
    "Refill: 2 times'''"
   ]
  },
  {
   "cell_type": "code",
   "execution_count": 21,
   "id": "e30fb446",
   "metadata": {},
   "outputs": [
    {
     "name": "stdout",
     "output_type": "stream",
     "text": [
      "Marta Sharapova\n"
     ]
    }
   ],
   "source": [
    "match=re.findall('Name:(.*)Date',text)\n",
    "print(match[0].strip())"
   ]
  },
  {
   "cell_type": "code",
   "execution_count": 22,
   "id": "cc3be47f",
   "metadata": {},
   "outputs": [
    {
     "name": "stdout",
     "output_type": "stream",
     "text": [
      "9 tennis court, new Russia, DC\n"
     ]
    }
   ],
   "source": [
    "match=re.findall('Address:(.*)\\n',text)\n",
    "print(match[0].strip())"
   ]
  },
  {
   "cell_type": "code",
   "execution_count": 29,
   "id": "da4d3cfa",
   "metadata": {},
   "outputs": [
    {
     "name": "stdout",
     "output_type": "stream",
     "text": [
      "Prednisone 20 mg\n",
      "Lialda 2.4 gram\n"
     ]
    }
   ],
   "source": [
    "match=re.findall('Address:[^\\n]*(.*)Directions',text,flags=re.DOTALL)\n",
    "print(match[0].strip())"
   ]
  },
  {
   "cell_type": "code",
   "execution_count": 30,
   "id": "fcf054de",
   "metadata": {},
   "outputs": [
    {
     "name": "stdout",
     "output_type": "stream",
     "text": [
      "Prednisone, Taper 5 mg every 3 days,\n",
      "Finish in 2.5 weeks a\n",
      "Lialda - take 2 pill everyday for 1 month\n"
     ]
    }
   ],
   "source": [
    "match=re.findall('Directions:(.*)Refill',text,flags=re.DOTALL)\n",
    "print(match[0].strip())"
   ]
  },
  {
   "cell_type": "code",
   "execution_count": null,
   "id": "d71bc333",
   "metadata": {},
   "outputs": [],
   "source": []
  }
 ],
 "metadata": {
  "kernelspec": {
   "display_name": "Python 3 (ipykernel)",
   "language": "python",
   "name": "python3"
  },
  "language_info": {
   "codemirror_mode": {
    "name": "ipython",
    "version": 3
   },
   "file_extension": ".py",
   "mimetype": "text/x-python",
   "name": "python",
   "nbconvert_exporter": "python",
   "pygments_lexer": "ipython3",
   "version": "3.9.12"
  }
 },
 "nbformat": 4,
 "nbformat_minor": 5
}
