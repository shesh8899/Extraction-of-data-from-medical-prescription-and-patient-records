{
 "cells": [
  {
   "cell_type": "code",
   "execution_count": 6,
   "id": "e35b0df0",
   "metadata": {},
   "outputs": [],
   "source": [
    "from PIL import Image\n",
    "import cv2"
   ]
  },
  {
   "cell_type": "code",
   "execution_count": 17,
   "id": "0f54c093",
   "metadata": {},
   "outputs": [],
   "source": [
    "src = cv2.imread('/Users/shashankpatil/Desktop/medi1/clear_image.jpg',flags=cv2.IMREAD_GRAYSCALE)\n",
    "src\n",
    "Image.fromarray(src).show()\n",
    "ret,thresh1 = cv2.threshold(src,150,255,cv2.THRESH_BINARY)\n",
    "Image.fromarray(thresh1).show()\n",
    "\n"
   ]
  },
  {
   "cell_type": "code",
   "execution_count": 43,
   "id": "28b262cb",
   "metadata": {},
   "outputs": [
    {
     "data": {
      "text/plain": [
       "array([[255, 255, 255, ..., 255, 255, 255],\n",
       "       [255, 255, 255, ..., 255, 255, 255],\n",
       "       [255, 255, 255, ..., 255, 255, 255],\n",
       "       ...,\n",
       "       [255, 255, 255, ..., 255, 255, 255],\n",
       "       [255, 255, 255, ..., 255, 255, 255],\n",
       "       [255, 255, 255, ..., 255, 255, 255]], dtype=uint8)"
      ]
     },
     "execution_count": 43,
     "metadata": {},
     "output_type": "execute_result"
    }
   ],
   "source": [
    "img=cv2.imread('/Users/shashankpatil/Desktop/medi1/dark_image.jpg',flags=cv2.IMREAD_GRAYSCALE)\n",
    "th3 = cv2.adaptiveThreshold(img,255,cv2.ADAPTIVE_THRESH_GAUSSIAN_C,\\\n",
    "            cv2.THRESH_BINARY,61,11)\n",
    "th3"
   ]
  },
  {
   "cell_type": "code",
   "execution_count": 44,
   "id": "4355e178",
   "metadata": {},
   "outputs": [],
   "source": [
    "Image.fromarray(th3).show()"
   ]
  },
  {
   "cell_type": "code",
   "execution_count": null,
   "id": "39c61073",
   "metadata": {},
   "outputs": [],
   "source": []
  }
 ],
 "metadata": {
  "kernelspec": {
   "display_name": "Python 3 (ipykernel)",
   "language": "python",
   "name": "python3"
  },
  "language_info": {
   "codemirror_mode": {
    "name": "ipython",
    "version": 3
   },
   "file_extension": ".py",
   "mimetype": "text/x-python",
   "name": "python",
   "nbconvert_exporter": "python",
   "pygments_lexer": "ipython3",
   "version": "3.9.12"
  }
 },
 "nbformat": 4,
 "nbformat_minor": 5
}
